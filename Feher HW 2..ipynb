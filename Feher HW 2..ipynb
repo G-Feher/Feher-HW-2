{
 "cells": [
  {
   "cell_type": "code",
   "execution_count": 17,
   "id": "a042f16a",
   "metadata": {},
   "outputs": [
    {
     "name": "stdout",
     "output_type": "stream",
     "text": [
      "0\n",
      "1\n",
      "2\n",
      "3\n",
      "4\n",
      "5\n",
      "6\n",
      "7\n",
      "8\n",
      "9\n"
     ]
    }
   ],
   "source": [
    "n = 0\n",
    "while n < 10 :\n",
    "    print(n)\n",
    "    n += 1"
   ]
  },
  {
   "cell_type": "code",
   "execution_count": 18,
   "id": "af96fdc0",
   "metadata": {},
   "outputs": [],
   "source": [
    "class color: \n",
    "    Green= '\\033[92m'\n",
    "    END = '\\033[0m'\n",
    "    "
   ]
  },
  {
   "cell_type": "code",
   "execution_count": 40,
   "id": "e9016fa6",
   "metadata": {},
   "outputs": [
    {
     "name": "stdout",
     "output_type": "stream",
     "text": [
      "0\n",
      "1\n",
      "2\n",
      "3\n",
      "4\n",
      "\u001b[92m $n \u001b[0m is not less than 5\n"
     ]
    }
   ],
   "source": [
    "n = 0\n",
    "while n < 5 :\n",
    "    print(n)\n",
    "    n += 1\n",
    "    \n",
    "print(color.Green,\"$\"\"n\", color.END, \"is not less than 5\")\n",
    "#please ignore if the question did not want the green $n before the statement"
   ]
  },
  {
   "cell_type": "code",
   "execution_count": 41,
   "id": "5fe05871",
   "metadata": {},
   "outputs": [
    {
     "name": "stdout",
     "output_type": "stream",
     "text": [
      "0\n",
      "1\n",
      "2\n",
      "3\n",
      "4\n",
      "5 is not less than 5\n"
     ]
    }
   ],
   "source": [
    "n = 0\n",
    "while n < 5 :\n",
    "    print(n)\n",
    "    n += 1\n",
    "\n",
    "print(\"5 is not less than 5\")"
   ]
  },
  {
   "cell_type": "code",
   "execution_count": 61,
   "id": "666b31b8",
   "metadata": {},
   "outputs": [
    {
     "name": "stdout",
     "output_type": "stream",
     "text": [
      "I like banana\n",
      "I like cherry\n",
      "apple is really a fruit?\n"
     ]
    }
   ],
   "source": [
    "fruits = [\"banana\", \"cherry\", \"apple\"]\n",
    "for x in fruits:\n",
    "    if x == \"banana\":\n",
    "        print(\"I like banana\")\n",
    "    if x == \"cherry\":\n",
    "        print(\"I like cherry\" )\n",
    "    if x == \"apple\":\n",
    "        print(\"apple is really a fruit?\" )"
   ]
  },
  {
   "cell_type": "code",
   "execution_count": 66,
   "id": "c2168968",
   "metadata": {},
   "outputs": [
    {
     "name": "stdout",
     "output_type": "stream",
     "text": [
      "465\n"
     ]
    }
   ],
   "source": [
    "n = 30\n",
    "sum = 0\n",
    "i = 1\n",
    "\n",
    "while i <= n:\n",
    "    sum = sum + i\n",
    "    i = i+1\n",
    "    \n",
    "print(sum)"
   ]
  },
  {
   "cell_type": "code",
   "execution_count": 81,
   "id": "fb5ddb80",
   "metadata": {},
   "outputs": [
    {
     "name": "stdout",
     "output_type": "stream",
     "text": [
      "F\n"
     ]
    }
   ],
   "source": [
    "grade = 55\n",
    "if grade >=90: \n",
    "    print(\"A\")\n",
    "elif grade <90 and grade >= 80:\n",
    "    print(\"B\")\n",
    "elif grade <80 and grade >= 70:\n",
    "    print(\"C\")\n",
    "elif grade <70 and grade >= 60:\n",
    "    print(\"D\")\n",
    "else: \n",
    "    grade <60\n",
    "    print(\"F\")\n"
   ]
  },
  {
   "cell_type": "code",
   "execution_count": 86,
   "id": "300ec9e3",
   "metadata": {},
   "outputs": [
    {
     "name": "stdout",
     "output_type": "stream",
     "text": [
      "Andy 88\n",
      "Amy 66\n",
      "James 90\n",
      "Jules 55\n",
      "Arthur 77\n"
     ]
    }
   ],
   "source": [
    "marks = {'Andy':88, 'Amy':66, 'James':90, 'Jules':55, 'Arthur':77}\n",
    "for name, grade in marks.items():\n",
    "    print(name,grade)"
   ]
  },
  {
   "cell_type": "code",
   "execution_count": 118,
   "id": "03a43f9f",
   "metadata": {},
   "outputs": [
    {
     "name": "stdout",
     "output_type": "stream",
     "text": [
      "75.2\n",
      "90\n",
      "55\n"
     ]
    }
   ],
   "source": [
    "marks = {'Andy':88, 'Amy':66, 'James':90, 'Jules':55, 'Arthur':77}\n",
    "sum = 0\n",
    "for n in marks.values():\n",
    "    sum += n\n",
    "    average_grade = sum / 5\n",
    "print(average_grade)\n",
    "max_grade = max(marks.values())\n",
    "print(max_grade)\n",
    "min_grade = min(marks.values())\n",
    "print(min_grade)"
   ]
  },
  {
   "cell_type": "code",
   "execution_count": 129,
   "id": "3f177fd6",
   "metadata": {},
   "outputs": [
    {
     "name": "stdout",
     "output_type": "stream",
     "text": [
      "Andy\n",
      "Amy\n"
     ]
    }
   ],
   "source": [
    "marks = {'Andy':88, 'Amy':66, 'James':90, 'Jules':55, 'Arthur':77}\n",
    "for t in marks.keys():\n",
    "    if \"J\" in t:\n",
    "        break\n",
    "    else:\n",
    "        print(t)"
   ]
  },
  {
   "cell_type": "code",
   "execution_count": 130,
   "id": "3303e1ab",
   "metadata": {},
   "outputs": [
    {
     "name": "stdout",
     "output_type": "stream",
     "text": [
      "Andy\n",
      "Amy\n",
      "Arthur\n"
     ]
    }
   ],
   "source": [
    "marks = {'Andy':88, 'Amy':66, 'James':90, 'Jules':55, 'Arthur':77}\n",
    "for t in marks.keys():\n",
    "    if \"J\" in t:\n",
    "        continue\n",
    "    else:\n",
    "        print(t)"
   ]
  },
  {
   "cell_type": "code",
   "execution_count": null,
   "id": "04f461fa",
   "metadata": {},
   "outputs": [],
   "source": []
  }
 ],
 "metadata": {
  "kernelspec": {
   "display_name": "Python 3",
   "language": "python",
   "name": "python3"
  },
  "language_info": {
   "codemirror_mode": {
    "name": "ipython",
    "version": 3
   },
   "file_extension": ".py",
   "mimetype": "text/x-python",
   "name": "python",
   "nbconvert_exporter": "python",
   "pygments_lexer": "ipython3",
   "version": "3.8.8"
  }
 },
 "nbformat": 4,
 "nbformat_minor": 5
}
